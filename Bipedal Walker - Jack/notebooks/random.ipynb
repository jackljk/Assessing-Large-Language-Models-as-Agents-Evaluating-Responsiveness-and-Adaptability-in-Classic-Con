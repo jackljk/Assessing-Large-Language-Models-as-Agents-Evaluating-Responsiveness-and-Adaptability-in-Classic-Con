{
 "cells": [
  {
   "cell_type": "code",
   "execution_count": 1,
   "metadata": {},
   "outputs": [],
   "source": [
    "ONE_ACTION = {\n",
    "    \"PRIMER\": \"\"\"\n",
    "Imagine you are an expert at controlling a bipedal machine, and you have been given the task of controlling a bipedal machine in a reinforcement learning environment. The challenge is to walk a bipedal machine as far as possible without falling over. The machine has a hull, two legs, a back and front revolute joint, and lower leg. The machine has 10 lidar sensors that can detect the distance to objects in front of it. \n",
    "\n",
    "You will be given scenarios in the form of observations from the environment and the reward based on the last action and the Current Total Score. Your goal is to provide the next action in the following format:\n",
    "\n",
    "'Move Back revolute joint `value`, Back lower leg 'value', Front revolute joint 'value', Front lower leg 'value''\n",
    "\n",
    "The values must be in the range [-1, 1], and your goal is to maximize the reward and move the machine forward effectively. Only provide the action and no additional explanation.\n",
    "\n",
    "Example\n",
    "'Observation from last step: \\nHull angle: -0.02\\nAngular velocity: -0.03\\nX velocity: -0.03\\nY velocity: -0.01\\nBack revolute joint angle: 0.48\\nBack revolute joint speed: 1.00\\nBack lower leg angle: 0.07\\nBack lower leg speed: -1.00\\nBack leg ground contact flag: 1.00\\nFront revolute joint angle: 0.38\\nFront revolute joint speed: 1.00\\nFront lower leg angle: 0.08\\nFront lower leg speed: -1.00\\nFront leg ground contact flag: 1.00\\nLidar 1 (0.00 rad): 0.45\\nLidar 2 (0.15 rad): 0.45\\nLidar 3 (0.30 rad): 0.47\\nLidar 4 (0.45 rad): 0.50\\nLidar 5 (0.60 rad): 0.54\\nLidar 6 (0.75 rad): 0.61\\nLidar 7 (0.90 rad): 0.72\\nLidar 8 (1.05 rad): 0.90\\nLidar 9 (1.20 rad): 1.00\\nLidar 10 (1.35 rad): 1.00'\n",
    "'The reward from the last step was: -0.25'\n",
    "Score: -0.25\n",
    "\n",
    "Action: Move Back revolute joint 0.5, Back lower leg -0.3, Front revolute joint 0.2, Front lower leg 0.7\n",
    "\"\"\",\n",
    "    \"OBSERVATION_SKELETON\": \"\"\"\n",
    "_\n",
    "{obs_step}\n",
    "{reward_step}\n",
    "score: {score_step}\n",
    "\n",
    "Action: \n",
    "\"\"\",\n",
    "    \"OBSERVATION_SKELETON_RESET\": \"\"\"\n",
    "Now, given the following observation, rewards and score give me the next action for the following scenario:\n",
    "_\n",
    "{obs_step}\n",
    "reward: None as it is the first step\n",
    "score: 0\n",
    "\n",
    "Action:\n",
    "\"\"\",\n",
    "}"
   ]
  },
  {
   "cell_type": "code",
   "execution_count": 7,
   "metadata": {},
   "outputs": [
    {
     "name": "stdout",
     "output_type": "stream",
     "text": [
      "\n",
      "Now, given the following observation, rewards and score give me the next action for the following scenario:\n",
      "_\n",
      "x\n",
      "reward: None as it is the first step\n",
      "score: 0\n",
      "\n",
      "Action:\n",
      "\n"
     ]
    }
   ],
   "source": [
    "print(ONE_ACTION[\"OBSERVATION_SKELETON_RESET\"].format(obs_step='x'))"
   ]
  },
  {
   "cell_type": "code",
   "execution_count": null,
   "metadata": {},
   "outputs": [],
   "source": []
  }
 ],
 "metadata": {
  "kernelspec": {
   "display_name": "LLM-agents",
   "language": "python",
   "name": "python3"
  },
  "language_info": {
   "codemirror_mode": {
    "name": "ipython",
    "version": 3
   },
   "file_extension": ".py",
   "mimetype": "text/x-python",
   "name": "python",
   "nbconvert_exporter": "python",
   "pygments_lexer": "ipython3",
   "version": "3.10.15"
  }
 },
 "nbformat": 4,
 "nbformat_minor": 2
}
