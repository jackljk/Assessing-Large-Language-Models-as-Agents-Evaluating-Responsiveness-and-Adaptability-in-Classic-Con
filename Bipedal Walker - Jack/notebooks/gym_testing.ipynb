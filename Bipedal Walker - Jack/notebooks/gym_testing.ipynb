{
 "cells": [
  {
   "cell_type": "code",
   "execution_count": 1,
   "metadata": {},
   "outputs": [],
   "source": [
    "import gymnasium as gym"
   ]
  },
  {
   "cell_type": "code",
   "execution_count": 2,
   "metadata": {},
   "outputs": [],
   "source": [
    "env = gym.make(\"BipedalWalker-v3\", render_mode=\"human\")"
   ]
  },
  {
   "cell_type": "code",
   "execution_count": 3,
   "metadata": {},
   "outputs": [],
   "source": [
    "env.reset()\n",
    "obs, reward, done, info, x = env.step(env.action_space.sample())"
   ]
  },
  {
   "cell_type": "markdown",
   "metadata": {},
   "source": [
    "## Break down of values\n",
    "\n",
    "- Obs\n",
    " - idx - 0 Hull Angle Speed\n",
    " - idx - 1 Angular Velocity\n",
    " - idx - 2 Horizontal Speed\n",
    " - idx - 3 Vertical Speed\n",
    " - idx - 4, 5 - joints idx 0\n",
    " - idx - 6, 7 - joints idx 1\n",
    " - idx - 8, 9 - joints idx 2\n",
    " - idx - 10, 11 - joints idx 3\n",
    " - idx - 12, 13 legs contact with ground\n",
    " - idx - 14 - 23 lidar readings\n",
    "\n",
    " - Lidar Readings\n",
    "    The lidar readings are 10 values representing the distance to a surface in 10 different directions directly in front of the walker with the following angles, taking the point directly above the walk as 0 radians:\n",
    "    [0.0, 0.15, 0.3, 0.45, 0.6, 0.75, 0.9, 1.05, 1.2, 1.35] radians\n",
    "\n",
    "    And the values are values between 0-1 which determine the distance to the surface in that direction.\n",
    "\n",
    "- Action\n",
    "4 values representing the torque applied to each joint. The torque values are clipped to be between -1 and 1."
   ]
  },
  {
   "cell_type": "code",
   "execution_count": 4,
   "metadata": {},
   "outputs": [],
   "source": [
    "def obs_to_text(obs):\n",
    "    starter = \"Observation from last step: \"\n",
    "    hull_angle_speed = f\"Hull angle: {obs[0]:.2f}\"\n",
    "    angular_velocity = f\"Angular velocity: {obs[1]:.2f}\"\n",
    "    x_velocity = f\"X velocity: {obs[2]:.2f}\"\n",
    "    y_velocity = f\"Y velocity: {obs[3]:.2f}\"\n",
    "    back_revolute_joint_angle = f\"Back revolute joint angle: {obs[4]:.2f}\"\n",
    "    back_revolute_joint_speed = f\"Back revolute joint speed: {obs[5]:.2f}\"\n",
    "    back_lower_leg_angle = f\"Back lower leg angle: {obs[6]:.2f}\"\n",
    "    back_lower_leg_speed = f\"Back lower leg speed: {obs[7]:.2f}\"\n",
    "    back_leg_ground_contact_flag = f\"Back leg ground contact flag: {obs[8]:.2f}\"\n",
    "    front_revolute_joint_angle = f\"Front revolute joint angle: {obs[9]:.2f}\"\n",
    "    front_revolute_joint_speed = f\"Front revolute joint speed: {obs[10]:.2f}\"\n",
    "    front_lower_leg_angle = f\"Front lower leg angle: {obs[11]:.2f}\"\n",
    "    front_lower_leg_speed = f\"Front lower leg speed: {obs[12]:.2f}\"\n",
    "    front_leg_ground_contact_flag = f\"Front leg ground contact flag: {obs[13]:.2f}\"\n",
    "    \n",
    "    # Lidars\n",
    "    lidar_angles = [0.0, 0.15, 0.3, 0.45, 0.6, 0.75, 0.9, 1.05, 1.2, 1.35] # In radians starting from the top of the hull\n",
    "    lidar_distances = obs[14:24]\n",
    "    lidar_readings = [f\"Lidar {i+1} ({angle:.2f} rad): {distance:.2f}\" for i, (angle, distance) in enumerate(zip(lidar_angles, lidar_distances))]\n",
    "    \n",
    "    return \"\\n\".join([starter, hull_angle_speed, angular_velocity, x_velocity, y_velocity, back_revolute_joint_angle, back_revolute_joint_speed, back_lower_leg_angle, back_lower_leg_speed, back_leg_ground_contact_flag, front_revolute_joint_angle, front_revolute_joint_speed, front_lower_leg_angle, front_lower_leg_speed, front_leg_ground_contact_flag] + lidar_readings)\n",
    "    "
   ]
  },
  {
   "cell_type": "markdown",
   "metadata": {},
   "source": [
    "## Work on getting observation with addition descriptions to help LLM understand the environment better\n",
    "\n",
    "- If no increase in reward in {x} actions, then reset the environment and tell the LLM to try a different approach\n",
    "    - This will help the LLM to not get stuck in position thinking it is a good thing\n",
    "- If the walker falls, then reset the environment and tell the LLM to try a different approach\n",
    "    - This will help the LLM to not keep repeating the same mistake\n",
    "- If the walker is tilting over a certain direction based on the lidar readings, tell the LLM that it is follow x direction and try to correct it\n",
    "- If little to no leg movement, tell the LLM to try to move the legs more\n",
    "- If the walker is moving backwards or not moving at all, tell the LLM to try to move forward\n",
    "- If the walker is moving forward tell it that it is moving forward and to keep doing so"
   ]
  },
  {
   "cell_type": "code",
   "execution_count": null,
   "metadata": {},
   "outputs": [
    {
     "data": {
      "text/plain": [
       "array([ 0.01213455,  0.03359081, -0.0020611 , -0.01071129,  0.4334355 ,\n",
       "        0.36703855,  0.07950807, -1.0001649 ,  1.        ,  0.33565775,\n",
       "        0.2973047 ,  0.08417094, -0.70090467,  1.        ,  0.44704577,\n",
       "        0.45212266,  0.46794587,  0.49647093,  0.5416534 ,  0.610978  ,\n",
       "        0.7191741 ,  0.89845616,  1.        ,  1.        ], dtype=float32)"
      ]
     },
     "execution_count": 5,
     "metadata": {},
     "output_type": "execute_result"
    }
   ],
   "source": []
  },
  {
   "cell_type": "code",
   "execution_count": 7,
   "metadata": {},
   "outputs": [
    {
     "data": {
      "text/plain": [
       "'Observation from last step: \\nHull angle: 0.01\\nAngular velocity: 0.03\\nX velocity: -0.00\\nY velocity: -0.01\\nBack revolute joint angle: 0.43\\nBack revolute joint speed: 0.37\\nBack lower leg angle: 0.08\\nBack lower leg speed: -1.00\\nBack leg ground contact flag: 1.00\\nFront revolute joint angle: 0.34\\nFront revolute joint speed: 0.30\\nFront lower leg angle: 0.08\\nFront lower leg speed: -0.70\\nFront leg ground contact flag: 1.00\\nLidar 1 (0.00 rad): 0.45\\nLidar 2 (0.15 rad): 0.45\\nLidar 3 (0.30 rad): 0.47\\nLidar 4 (0.45 rad): 0.50\\nLidar 5 (0.60 rad): 0.54\\nLidar 6 (0.75 rad): 0.61\\nLidar 7 (0.90 rad): 0.72\\nLidar 8 (1.05 rad): 0.90\\nLidar 9 (1.20 rad): 1.00\\nLidar 10 (1.35 rad): 1.00'"
      ]
     },
     "execution_count": 7,
     "metadata": {},
     "output_type": "execute_result"
    }
   ],
   "source": [
    "obs_to_text(obs)"
   ]
  },
  {
   "cell_type": "code",
   "execution_count": 8,
   "metadata": {},
   "outputs": [],
   "source": [
    "env.close()"
   ]
  },
  {
   "cell_type": "code",
   "execution_count": null,
   "metadata": {},
   "outputs": [],
   "source": [
    "def reward_to_text(reward):\n",
    "    return f\"The reward from the last step was: {reward:.2f}\""
   ]
  },
  {
   "cell_type": "code",
   "execution_count": null,
   "metadata": {},
   "outputs": [],
   "source": [
    "def text_to_action(text):\n",
    "    \"\"\"\n",
    "        Given an output by the LLM in the form:\n",
    "            Move Back revolute joint {value}, Back lower leg {value}, Front revolute joint {value}, Front lower leg {value}\n",
    "        This function will return the corresponding action values for the environment \n",
    "    \"\"\"\n",
    "    action = [0, 0, 0, 0]\n",
    "    split_text = text.split(\", \")\n",
    "    for i, action_value in enumerate(split_text):\n",
    "        action[i] = float(action_value.split(\" \")[-1])\n",
    "    return action"
   ]
  },
  {
   "cell_type": "code",
   "execution_count": null,
   "metadata": {},
   "outputs": [],
   "source": []
  }
 ],
 "metadata": {
  "kernelspec": {
   "display_name": "LLM-agents",
   "language": "python",
   "name": "python3"
  },
  "language_info": {
   "codemirror_mode": {
    "name": "ipython",
    "version": 3
   },
   "file_extension": ".py",
   "mimetype": "text/x-python",
   "name": "python",
   "nbconvert_exporter": "python",
   "pygments_lexer": "ipython3",
   "version": "3.10.15"
  }
 },
 "nbformat": 4,
 "nbformat_minor": 2
}
