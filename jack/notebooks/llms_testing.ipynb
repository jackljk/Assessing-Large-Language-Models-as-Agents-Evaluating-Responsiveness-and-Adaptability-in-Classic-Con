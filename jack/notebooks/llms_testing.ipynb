{
 "cells": [
  {
   "cell_type": "code",
   "execution_count": 1,
   "metadata": {},
   "outputs": [],
   "source": [
    "import gymnasium as gym\n",
    "import numpy as np\n",
    "import transformers\n",
    "from transformers import pipeline\n",
    "from transformers import AutoModelForCausalLM, AutoTokenizer"
   ]
  },
  {
   "cell_type": "code",
   "execution_count": 2,
   "metadata": {},
   "outputs": [
    {
     "data": {
      "application/vnd.jupyter.widget-view+json": {
       "model_id": "ff1f97fce04a4ec3a7670ac43c4f087c",
       "version_major": 2,
       "version_minor": 0
      },
      "text/plain": [
       "Loading checkpoint shards:   0%|          | 0/3 [00:00<?, ?it/s]"
      ]
     },
     "metadata": {},
     "output_type": "display_data"
    }
   ],
   "source": [
    "tokenizer = AutoTokenizer.from_pretrained(\"google/gemma-2-2b\")\n",
    "model = AutoModelForCausalLM.from_pretrained(\"google/gemma-2-2b\")"
   ]
  },
  {
   "cell_type": "markdown",
   "metadata": {},
   "source": [
    "# Get prompts"
   ]
  },
  {
   "cell_type": "code",
   "execution_count": 3,
   "metadata": {},
   "outputs": [],
   "source": [
    "def obs_to_text(obs):\n",
    "    starter = \"Observation from last step: \"\n",
    "    hull_angle_speed = f\"Hull angle: {obs[0]:.2f}\"\n",
    "    angular_velocity = f\"Angular velocity: {obs[1]:.2f}\"\n",
    "    x_velocity = f\"X velocity: {obs[2]:.2f}\"\n",
    "    y_velocity = f\"Y velocity: {obs[3]:.2f}\"\n",
    "    back_revolute_joint_angle = f\"Back revolute joint angle: {obs[4]:.2f}\"\n",
    "    back_revolute_joint_speed = f\"Back revolute joint speed: {obs[5]:.2f}\"\n",
    "    back_lower_leg_angle = f\"Back lower leg angle: {obs[6]:.2f}\"\n",
    "    back_lower_leg_speed = f\"Back lower leg speed: {obs[7]:.2f}\"\n",
    "    back_leg_ground_contact_flag = f\"Back leg ground contact flag: {obs[8]:.2f}\"\n",
    "    front_revolute_joint_angle = f\"Front revolute joint angle: {obs[9]:.2f}\"\n",
    "    front_revolute_joint_speed = f\"Front revolute joint speed: {obs[10]:.2f}\"\n",
    "    front_lower_leg_angle = f\"Front lower leg angle: {obs[11]:.2f}\"\n",
    "    front_lower_leg_speed = f\"Front lower leg speed: {obs[12]:.2f}\"\n",
    "    front_leg_ground_contact_flag = f\"Front leg ground contact flag: {obs[13]:.2f}\"\n",
    "    \n",
    "    # Lidars\n",
    "    lidar_angles = [0.0, 0.15, 0.3, 0.45, 0.6, 0.75, 0.9, 1.05, 1.2, 1.35] # In radians starting from the top of the hull\n",
    "    lidar_distances = obs[14:24]\n",
    "    lidar_readings = [f\"Lidar {i+1} ({angle:.2f} rad): {distance:.2f}\" for i, (angle, distance) in enumerate(zip(lidar_angles, lidar_distances))]\n",
    "    \n",
    "    return \"\\n\".join([starter, hull_angle_speed, angular_velocity, x_velocity, y_velocity, back_revolute_joint_angle, back_revolute_joint_speed, back_lower_leg_angle, back_lower_leg_speed, back_leg_ground_contact_flag, front_revolute_joint_angle, front_revolute_joint_speed, front_lower_leg_angle, front_lower_leg_speed, front_leg_ground_contact_flag] + lidar_readings)\n",
    "\n",
    "def reward_to_text(reward):\n",
    "    return f\"The reward from the last step was: {reward:.2f}\"\n",
    "\n",
    "def text_to_action(text):\n",
    "    \"\"\"\n",
    "        Given an output by the LLM in the form:\n",
    "            Move Back revolute joint {value}, Back lower leg {value}, Front revolute joint {value}, Front lower leg {value}\n",
    "        This function will return the corresponding action values for the environment \n",
    "    \"\"\"\n",
    "    action = [0, 0, 0, 0]\n",
    "    split_text = text.split(\", \")\n",
    "    for i, action_value in enumerate(split_text):\n",
    "        action[i] = float(action_value.split(\" \")[-1])\n",
    "    return action\n",
    "    "
   ]
  },
  {
   "cell_type": "code",
   "execution_count": 4,
   "metadata": {},
   "outputs": [
    {
     "data": {
      "text/plain": [
       "(array([ 2.7475136e-03, -4.0627820e-06,  3.1602487e-04, -1.5999971e-02,\n",
       "         9.2093654e-02, -4.1704316e-04,  8.6019379e-01,  1.7114585e-03,\n",
       "         1.0000000e+00,  3.2500479e-02, -4.1701546e-04,  8.5374027e-01,\n",
       "         2.9493857e-04,  1.0000000e+00,  4.4081402e-01,  4.4582012e-01,\n",
       "         4.6142277e-01,  4.8955020e-01,  5.3410280e-01,  6.0246104e-01,\n",
       "         7.0914888e-01,  8.8593185e-01,  1.0000000e+00,  1.0000000e+00],\n",
       "       dtype=float32),\n",
       " {})"
      ]
     },
     "execution_count": 4,
     "metadata": {},
     "output_type": "execute_result"
    }
   ],
   "source": [
    "env = gym.make(\"BipedalWalker-v3\", render_mode=\"human\")\n",
    "env.reset()"
   ]
  },
  {
   "cell_type": "code",
   "execution_count": 25,
   "metadata": {},
   "outputs": [],
   "source": [
    "obs, reward, done, info, _ = env.step(env.action_space.sample())"
   ]
  },
  {
   "cell_type": "code",
   "execution_count": 26,
   "metadata": {},
   "outputs": [
    {
     "data": {
      "text/plain": [
       "'Observation from last step: \\nHull angle: -0.01\\nAngular velocity: 0.00\\nX velocity: -0.00\\nY velocity: 0.00\\nBack revolute joint angle: 0.47\\nBack revolute joint speed: 0.28\\nBack lower leg angle: -0.10\\nBack lower leg speed: -1.00\\nBack leg ground contact flag: 0.00\\nFront revolute joint angle: 0.33\\nFront revolute joint speed: -0.03\\nFront lower leg angle: 0.19\\nFront lower leg speed: 0.02\\nFront leg ground contact flag: 0.00\\nLidar 1 (0.00 rad): 0.45\\nLidar 2 (0.15 rad): 0.46\\nLidar 3 (0.30 rad): 0.47\\nLidar 4 (0.45 rad): 0.50\\nLidar 5 (0.60 rad): 0.55\\nLidar 6 (0.75 rad): 0.62\\nLidar 7 (0.90 rad): 0.72\\nLidar 8 (1.05 rad): 0.91\\nLidar 9 (1.20 rad): 1.00\\nLidar 10 (1.35 rad): 1.00'"
      ]
     },
     "execution_count": 26,
     "metadata": {},
     "output_type": "execute_result"
    }
   ],
   "source": [
    "obs_text = obs_to_text(obs)\n",
    "reward_text = reward_to_text(reward)\n",
    "obs_text"
   ]
  },
  {
   "cell_type": "code",
   "execution_count": 22,
   "metadata": {},
   "outputs": [],
   "source": [
    "obs_text_example = obs_text\n",
    "reward_text_example = reward_text"
   ]
  },
  {
   "cell_type": "code",
   "execution_count": 28,
   "metadata": {},
   "outputs": [
    {
     "name": "stdout",
     "output_type": "stream",
     "text": [
      "\n",
      "You are playing a challenge to walk a bipedal machine as far as possible without falling over. The machine has a hull, two legs, a back and front revolute joint, and lower leg. The machine has 10 lidar sensors that can detect the distance to objects in front of it. \n",
      "\n",
      "You will be given scenarios in the form of observations from the environment and the current reward based on the last action. Your goal is to provide the next action in the following format:\n",
      "\n",
      "'Move Back revolute joint `value`, Back lower leg 'value', Front revolute joint 'value', Front lower leg 'value''\n",
      "\n",
      "The values must be in the range [-1, 1], and your goal is to maximize the reward and move the machine forward effectively. Only provide the action and no additional explanation.\n",
      "\n",
      "Example:\n",
      "Observation: Observation from last step: \n",
      "Hull angle: -0.01\n",
      "Angular velocity: -0.01\n",
      "X velocity: -0.00\n",
      "Y velocity: 0.00\n",
      "Back revolute joint angle: 0.43\n",
      "Back revolute joint speed: -0.03\n",
      "Back lower leg angle: 0.13\n",
      "Back lower leg speed: 0.13\n",
      "Back leg ground contact flag: 1.00\n",
      "Front revolute joint angle: 0.34\n",
      "Front revolute joint speed: 0.04\n",
      "Front lower leg angle: 0.13\n",
      "Front lower leg speed: 0.04\n",
      "Front leg ground contact flag: 1.00\n",
      "Lidar 1 (0.00 rad): 0.45\n",
      "Lidar 2 (0.15 rad): 0.46\n",
      "Lidar 3 (0.30 rad): 0.47\n",
      "Lidar 4 (0.45 rad): 0.50\n",
      "Lidar 5 (0.60 rad): 0.55\n",
      "Lidar 6 (0.75 rad): 0.62\n",
      "Lidar 7 (0.90 rad): 0.73\n",
      "Lidar 8 (1.05 rad): 0.91\n",
      "Lidar 9 (1.20 rad): 1.00\n",
      "Lidar 10 (1.35 rad): 1.00\n",
      "Reward: The reward from the last step was: -0.13\n",
      "\n",
      "Action: Move Back revolute joint 0.5, Back lower leg -0.3, Front revolute joint 0.2, Front lower leg 0.7\n",
      "\n",
      "Give me the next action for the following scenario:\n",
      "\n",
      "observation: Observation from last step: \n",
      "Hull angle: -0.01\n",
      "Angular velocity: 0.00\n",
      "X velocity: -0.00\n",
      "Y velocity: 0.00\n",
      "Back revolute joint angle: 0.47\n",
      "Back revolute joint speed: 0.28\n",
      "Back lower leg angle: -0.10\n",
      "Back lower leg speed: -1.00\n",
      "Back leg ground contact flag: 0.00\n",
      "Front revolute joint angle: 0.33\n",
      "Front revolute joint speed: -0.03\n",
      "Front lower leg angle: 0.19\n",
      "Front lower leg speed: 0.02\n",
      "Front leg ground contact flag: 0.00\n",
      "Lidar 1 (0.00 rad): 0.45\n",
      "Lidar 2 (0.15 rad): 0.46\n",
      "Lidar 3 (0.30 rad): 0.47\n",
      "Lidar 4 (0.45 rad): 0.50\n",
      "Lidar 5 (0.60 rad): 0.55\n",
      "Lidar 6 (0.75 rad): 0.62\n",
      "Lidar 7 (0.90 rad): 0.72\n",
      "Lidar 8 (1.05 rad): 0.91\n",
      "Lidar 9 (1.20 rad): 1.00\n",
      "Lidar 10 (1.35 rad): 1.00\n",
      "reward: The reward from the last step was: -0.04\n",
      "\n",
      "Action: \n",
      "'''\n",
      "\n",
      "import numpy as np\n",
      "import random\n",
      "import math\n",
      "import matplotlib.pyplot as plt\n",
      "from collections import deque\n",
      "from gym import utils, spaces\n",
      "from gym.utils import seeding\n",
      "import sys\n",
      "import random\n",
      "from collections import deque\n",
      "import gym\n",
      "from gym.spaces import Discrete\n",
      "from gym.spaces import Box\n",
      "from gym.spaces import Tuple\n",
      "import os\n",
      "\n",
      "class Bipedal\n"
     ]
    }
   ],
   "source": [
    "primer = \"\"\"\n",
    "You are playing a challenge to walk a bipedal machine as far as possible without falling over. The machine has a hull, two legs, a back and front revolute joint, and lower leg. The machine has 10 lidar sensors that can detect the distance to objects in front of it. \n",
    "\n",
    "You will be given scenarios in the form of observations from the environment and the current reward based on the last action. Your goal is to provide the next action in the following format:\n",
    "\n",
    "'Move Back revolute joint `value`, Back lower leg 'value', Front revolute joint 'value', Front lower leg 'value''\n",
    "\n",
    "The values must be in the range [-1, 1], and your goal is to maximize the reward and move the machine forward effectively. Only provide the action and no additional explanation.\n",
    "\n",
    "Example:\n",
    "Observation: {obs}\n",
    "Reward: {reward}\n",
    "\n",
    "Action: Move Back revolute joint 0.5, Back lower leg -0.3, Front revolute joint 0.2, Front lower leg 0.7\n",
    "\n",
    "Give me the next action for the following scenario:\n",
    "\n",
    "observation: {obs_step}\n",
    "reward: {reward_step}\n",
    "\n",
    "Action: \n",
    "\"\"\"\n",
    "\n",
    "input_text = primer.format(obs=obs_text_example, reward=reward_text_example, obs_step=obs_text, reward_step=reward_text)\n",
    "input_primer = tokenizer(input_text, return_tensors=\"pt\")\n",
    "\n",
    "generate_ids = model.generate(\n",
    "    input_primer[\"input_ids\"], \n",
    "    max_length=1000, \n",
    "    num_return_sequences=1, \n",
    "    temperature=0.7, \n",
    "    top_k=50, \n",
    "    top_p=0.9, \n",
    "    do_sample=True, \n",
    "    pad_token_id=tokenizer.eos_token_id\n",
    ")\n",
    "\n",
    "output = tokenizer.decode(generate_ids[0], skip_special_tokens=True)\n",
    "print(output)\n"
   ]
  },
  {
   "cell_type": "code",
   "execution_count": null,
   "metadata": {},
   "outputs": [],
   "source": []
  }
 ],
 "metadata": {
  "kernelspec": {
   "display_name": "LLMs-Agent",
   "language": "python",
   "name": "python3"
  },
  "language_info": {
   "codemirror_mode": {
    "name": "ipython",
    "version": 3
   },
   "file_extension": ".py",
   "mimetype": "text/x-python",
   "name": "python",
   "nbconvert_exporter": "python",
   "pygments_lexer": "ipython3",
   "version": "3.10.15"
  }
 },
 "nbformat": 4,
 "nbformat_minor": 2
}
