{
 "cells": [
  {
   "cell_type": "markdown",
   "metadata": {},
   "source": [
    "#### imports"
   ]
  },
  {
   "cell_type": "code",
   "execution_count": null,
   "metadata": {},
   "outputs": [],
   "source": [
    "import gymnasium as gym\n",
    "import pygame"
   ]
  },
  {
   "cell_type": "markdown",
   "metadata": {},
   "source": [
    "#### playing the game"
   ]
  },
  {
   "cell_type": "code",
   "execution_count": null,
   "metadata": {},
   "outputs": [],
   "source": [
    "env = gym.make(\"CarRacing-v3\", render_mode=\"human\")\n",
    "observation, info = env.reset()\n",
    "\n",
    "pygame.init()\n",
    "pygame.display.set_caption(\"Car Racing Controls\")\n",
    "\n",
    "steering = 0.0\n",
    "acceleration = 0.0\n",
    "brake = 0.0\n",
    "\n",
    "def handle_keys():\n",
    "    global steering, acceleration, brake\n",
    "    keys = pygame.key.get_pressed()\n",
    "    \n",
    "    if keys[pygame.K_LEFT]:\n",
    "        steering = -1.0\n",
    "    elif keys[pygame.K_RIGHT]:\n",
    "        steering = 1.0\n",
    "    else:\n",
    "        steering = 0.0\n",
    "\n",
    "    if keys[pygame.K_UP]:\n",
    "        acceleration = 1.0\n",
    "    else:\n",
    "        acceleration = 0.0\n",
    "\n",
    "    if keys[pygame.K_DOWN]:\n",
    "        brake = 0.8\n",
    "    else:\n",
    "        brake = 0.0\n",
    "\n",
    "episode_over = False\n",
    "while not episode_over:\n",
    "    for event in pygame.event.get():\n",
    "        if event.type == pygame.QUIT:\n",
    "            episode_over = True\n",
    "    \n",
    "    handle_keys()\n",
    "    \n",
    "    action = [steering, acceleration, brake]\n",
    "    \n",
    "    observation, reward, terminated, truncated, info = env.step(action)\n",
    "    episode_over = terminated or truncated\n",
    "\n",
    "env.close()\n",
    "pygame.quit()\n"
   ]
  },
  {
   "cell_type": "markdown",
   "metadata": {},
   "source": [
    "#### documentation template"
   ]
  },
  {
   "cell_type": "code",
   "execution_count": null,
   "metadata": {},
   "outputs": [],
   "source": [
    "env = gym.make(\"CarRacing-v2\", render_mode=\"human\")\n",
    "observation, info = env.reset()\n",
    "var = []\n",
    "\n",
    "episode_over = False\n",
    "while not episode_over:\n",
    "    action = env.action_space.sample()  # agent policy that uses the observation and info\n",
    "    observation, reward, terminated, truncated, info = env.step(action)\n",
    "    var = observation\n",
    "    break\n",
    "    episode_over = terminated or truncated\n",
    "\n",
    "env.close()"
   ]
  },
  {
   "cell_type": "code",
   "execution_count": null,
   "metadata": {},
   "outputs": [],
   "source": [
    "var.shape"
   ]
  },
  {
   "cell_type": "markdown",
   "metadata": {},
   "source": [
    "#### test"
   ]
  }
 ],
 "metadata": {
  "kernelspec": {
   "display_name": "Python 3",
   "language": "python",
   "name": "python3"
  },
  "language_info": {
   "codemirror_mode": {
    "name": "ipython",
    "version": 3
   },
   "file_extension": ".py",
   "mimetype": "text/x-python",
   "name": "python",
   "nbconvert_exporter": "python",
   "pygments_lexer": "ipython3",
   "version": "3.10.2"
  }
 },
 "nbformat": 4,
 "nbformat_minor": 2
}
