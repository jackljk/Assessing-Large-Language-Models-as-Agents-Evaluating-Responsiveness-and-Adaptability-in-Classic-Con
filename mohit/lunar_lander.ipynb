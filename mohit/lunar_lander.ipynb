{
 "cells": [
  {
   "cell_type": "code",
   "execution_count": 2,
   "metadata": {},
   "outputs": [],
   "source": [
    "import gymnasium as gym\n",
    "import numpy as np"
   ]
  },
  {
   "cell_type": "code",
   "execution_count": 12,
   "metadata": {},
   "outputs": [],
   "source": [
    "env = gym.make(\"LunarLander-v3\", render_mode=\"human\")\n",
    "observation, info = env.reset()\n",
    "\n",
    "episode_over = False\n",
    "while not episode_over:\n",
    "    action = env.action_space.sample()  # agent policy that uses the observation and info\n",
    "    observation, reward, terminated, truncated, info = env.step(action)\n",
    "    episode_over = terminated or truncated"
   ]
  },
  {
   "cell_type": "code",
   "execution_count": 11,
   "metadata": {},
   "outputs": [],
   "source": [
    "env.close()"
   ]
  },
  {
   "cell_type": "markdown",
   "metadata": {},
   "source": [
    "## Breakdown of 8-dim observation values\n",
    "\n",
    "- [0] : x-coordinate of lander\n",
    "\n",
    "- [1] : y-coordinate of lander\n",
    "\n",
    "- [2] : linear velocity of lander in x\n",
    "\n",
    "- [3] : linear velocity of lander in y\n",
    "\n",
    "- [4] : angle of lander\n",
    "\n",
    "- [5] : angular velocity of lander (must be multiplied by a factor of 2.5 to convert to rps)\n",
    "\n",
    "- [6] : boolean whether or not leg 1 (arbitrary) is in contact with ground\n",
    "\n",
    "- [7] : boolean whether or not leg 2 (arbitrary) is in contact with ground\n"
   ]
  },
  {
   "cell_type": "code",
   "execution_count": 15,
   "metadata": {},
   "outputs": [],
   "source": [
    "def obs_to_text(obs):\n",
    "    starter = \"Observation from last step: \"\n",
    "    x_coordinate = f\"X coordinate: {obs[0]:2f}\"\n",
    "    y_coordinate = f\"Y coordinate: {obs[1]:.2f}\"\n",
    "    x_velocity = f\"X velocity: {obs[2]:.2f}\"\n",
    "    y_velocity = f\"Y velocity: {obs[3]:.2f}\"\n",
    "    lander_angle = f\"Angle of the lander: {obs[4]:.2f}\"\n",
    "    angular_velocity = obs[5] * 2.5\n",
    "    angular_velocity = f\"Angular velocity of lander: {angular_velocity}\"\n",
    "    leg_1_contact_flag = f\"Leg 1 contact with ground flag: {obs[6]}\"\n",
    "    leg_2_contact_flag = f\"Leg 2 contact with ground flag: {obs[7]}\"\n",
    "     \n",
    "    return \"\\n\".join([starter, x_coordinate, y_coordinate, x_velocity, y_velocity, lander_angle, angular_velocity, leg_1_contact_flag, leg_2_contact_flag])\n"
   ]
  },
  {
   "cell_type": "code",
   "execution_count": 16,
   "metadata": {},
   "outputs": [
    {
     "name": "stdout",
     "output_type": "stream",
     "text": [
      "Observation from last step: \n",
      "X coordinate: 0.557210\n",
      "Y coordinate: -0.17\n",
      "X velocity: 0.87\n",
      "Y velocity: -0.02\n",
      "Angle of the lander: -3.25\n",
      "Angular velocity of lander: 0.19123662263154984\n",
      "Leg 1 contact with ground flag: 0.0\n",
      "Leg 2 contact with ground flag: 0.0\n"
     ]
    }
   ],
   "source": [
    "print(obs_to_text(observation))"
   ]
  },
  {
   "cell_type": "code",
   "execution_count": 6,
   "metadata": {},
   "outputs": [],
   "source": [
    "def reward_to_text(reward):\n",
    "    return f\"The reward from the last step was: {reward:.2f}\""
   ]
  },
  {
   "cell_type": "code",
   "execution_count": 7,
   "metadata": {},
   "outputs": [],
   "source": [
    "def text_to_action(text):\n",
    "    \"\"\"\n",
    "        Given an output by the LLM in the form:\n",
    "        0 - \"do nothing\"\n",
    "        1 - \"fire left orientation engine\"\n",
    "        2 - \"fire main engine\"\n",
    "        3 - \"fire right orientation engine\"\n",
    "        This function will return the corresponding action values for the environment \n",
    "    \"\"\"\n",
    "    action = [0, 0, 0, 0]\n",
    "    split_text = text.split(\", \")\n",
    "    for i, action_value in enumerate(split_text):\n",
    "        action[i] = float(action_value.split(\" \")[-1])\n",
    "    return action"
   ]
  }
 ],
 "metadata": {
  "kernelspec": {
   "display_name": "Python 3",
   "language": "python",
   "name": "python3"
  },
  "language_info": {
   "codemirror_mode": {
    "name": "ipython",
    "version": 3
   },
   "file_extension": ".py",
   "mimetype": "text/x-python",
   "name": "python",
   "nbconvert_exporter": "python",
   "pygments_lexer": "ipython3",
   "version": "3.10.2"
  }
 },
 "nbformat": 4,
 "nbformat_minor": 2
}
