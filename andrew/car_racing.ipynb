{
 "cells": [
  {
   "cell_type": "code",
   "execution_count": 2,
   "metadata": {},
   "outputs": [],
   "source": [
    "import gymnasium as gym\n",
    "import pygame"
   ]
  },
  {
   "cell_type": "code",
   "execution_count": 10,
   "metadata": {},
   "outputs": [],
   "source": [
    "env = gym.make(\"CarRacing-v2\", render_mode=\"human\")\n",
    "observation, info = env.reset()\n",
    "\n",
    "episode_over = False\n",
    "while not episode_over:\n",
    "    action = env.action_space.sample()  # agent policy that uses the observation and info\n",
    "    observation, reward, terminated, truncated, info = env.step(action)\n",
    "    episode_over = terminated or truncated\n",
    "\n",
    "env.close()"
   ]
  },
  {
   "cell_type": "markdown",
   "metadata": {},
   "source": [
    "## Breakdown of observation values\n",
    "\n",
    "- RGB image as a 96 x 96 x 3 array \n",
    "- represents car position on track"
   ]
  },
  {
   "cell_type": "code",
   "execution_count": 11,
   "metadata": {},
   "outputs": [],
   "source": [
    "def reward_to_text(reward):\n",
    "    return f\"The reward from the last step was: {reward:.2f}\""
   ]
  },
  {
   "cell_type": "code",
   "execution_count": 12,
   "metadata": {},
   "outputs": [],
   "source": [
    "def text_to_action(text):\n",
    "    \"\"\"\n",
    "    Expected LLM output format:\n",
    "    - \"steering: <value>\" (range: -1.0 to 1.0)\n",
    "    - \"acceleration: <value>\" (range: 0.0 to 1.0)\n",
    "    - \"braking: <value>\" (range: 0.0 to 1.0)\n",
    "\n",
    "    This function parses the text and returns a list of action values:\n",
    "    [steering, acceleration, braking]\n",
    "    \"\"\"\n",
    "    action = [0.0, 0.0, 0.0]\n",
    "    split_text = text.split(\", \")\n",
    "\n",
    "    for part in split_text:\n",
    "        key, value = part.split(\": \")\n",
    "        value = float(value)\n",
    "        if key == \"steering\":\n",
    "            action[0] = value\n",
    "        elif key == \"acceleration\":\n",
    "            action[1] = value\n",
    "        elif key == \"braking\":\n",
    "            action[2] = value\n",
    "    \n",
    "    return action\n"
   ]
  }
 ],
 "metadata": {
  "kernelspec": {
   "display_name": "dsc80",
   "language": "python",
   "name": "python3"
  },
  "language_info": {
   "codemirror_mode": {
    "name": "ipython",
    "version": 3
   },
   "file_extension": ".py",
   "mimetype": "text/x-python",
   "name": "python",
   "nbconvert_exporter": "python",
   "pygments_lexer": "ipython3",
   "version": "3.8.12"
  }
 },
 "nbformat": 4,
 "nbformat_minor": 2
}
